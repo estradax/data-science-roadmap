{
 "cells": [
  {
   "cell_type": "markdown",
   "metadata": {
    "id": "oVyAVwTf-iaI"
   },
   "source": [
    "# Simple linear regression "
   ]
  },
  {
   "cell_type": "markdown",
   "metadata": {
    "id": "SAskx4cV96ml"
   },
   "source": [
    "Throughout the following exercises, you will learn to use Python to build a simple linear regression model. Before starting on this programming exercise, we strongly recommend watching the video lecture and completing the IVQ for the associated topics."
   ]
  },
  {
   "cell_type": "markdown",
   "metadata": {
    "id": "9OBbqx3v-UeB"
   },
   "source": [
    "All the information you need for solving this assignment is in this notebook, and all the code you will be implementing will take place within this notebook."
   ]
  },
  {
   "cell_type": "markdown",
   "metadata": {
    "id": "Tnl65ETO-rKs"
   },
   "source": [
    "As we move forward, you can find instructions on how to install required libraries as they arise in this notebook. Before we begin with the exercises and analyzing the data, we need to import all libraries and extensions required for this programming exercise. Throughout the course, we will be using pandas and statsmodels for operations, and seaborn for plotting."
   ]
  },
  {
   "cell_type": "markdown",
   "metadata": {
    "id": "IxAz48pWhnT9"
   },
   "source": [
    "## Relevant imports\n",
    "\n"
   ]
  },
  {
   "cell_type": "markdown",
   "metadata": {
    "id": "aSAwo8PQMEvV"
   },
   "source": [
    "Begin by importing the relevant packages and data."
   ]
  },
  {
   "cell_type": "code",
   "execution_count": 1,
   "metadata": {
    "id": "BsCwHj3Ehh3I"
   },
   "outputs": [],
   "source": [
    "# Import packages\n",
    "import pandas as pd\n",
    "import seaborn as sns"
   ]
  },
  {
   "cell_type": "markdown",
   "metadata": {
    "id": "rpYzAXEwtjIL"
   },
   "source": [
    "**Note:** Recall that the default for `head()` is to show the first 5 rows. If you change the value for `n`, you can show more rows. For example, if you load the sns dataset and call it \"penguins,\" the command `penguins.head(3)` will show 3 rows."
   ]
  },
  {
   "cell_type": "code",
   "execution_count": 2,
   "metadata": {
    "colab": {
     "base_uri": "https://localhost:8080/",
     "height": 206
    },
    "executionInfo": {
     "elapsed": 1068,
     "status": "ok",
     "timestamp": 1649711497467,
     "user": {
      "displayName": "Juan Delgado",
      "userId": "16851183442870430714"
     },
     "user_tz": 420
    },
    "id": "E3nVzXQ27P48",
    "outputId": "a5486370-9bd4-4075-a0a1-78d43116cc4f"
   },
   "outputs": [],
   "source": [
    "# Load dataset\n",
    "penguins = sns.load_dataset(\"penguins\")\n",
    "\n",
    "# Examine first 5 rows of dataset\n",
    "penguins = penguins.head(20)"
   ]
  },
  {
   "cell_type": "code",
   "execution_count": 3,
   "metadata": {},
   "outputs": [
    {
     "data": {
      "text/plain": [
       "array(['Adelie'], dtype=object)"
      ]
     },
     "execution_count": 3,
     "metadata": {},
     "output_type": "execute_result"
    }
   ],
   "source": [
    "# penguin dataset species\n",
    "\n",
    "penguins[\"species\"].unique()"
   ]
  },
  {
   "cell_type": "markdown",
   "metadata": {
    "id": "xGxL2qlmu--v"
   },
   "source": [
    "From the first 5 rows of the dataset, we can see that there are several columns available: `species`, `island`, `bill_length_mm`, `bill_depth_mm`, `flipper_length_mm`, `body_mass_g`, and `sex`. There also appears to be some missing data."
   ]
  },
  {
   "cell_type": "markdown",
   "metadata": {
    "id": "JrsQvmhwhxp2"
   },
   "source": [
    "## Data cleaning (not shown in videos)"
   ]
  },
  {
   "cell_type": "markdown",
   "metadata": {
    "id": "36DtNW0mV0Xh"
   },
   "source": [
    "For the purposes of this course, we are focusing our analysis on Adelie and Gentoo penguins, and will be dropping any missing values from the dataset. In a work setting, you would typically examine the data more thoroughly before deciding how to handle missing data (i.e., fill in, drop, etc.). Please refer back to previous program content if you need to review how to handle missing data."
   ]
  },
  {
   "cell_type": "code",
   "execution_count": 4,
   "metadata": {
    "id": "G4CAwn2ehuqW"
   },
   "outputs": [
    {
     "data": {
      "text/html": [
       "<div>\n",
       "<style scoped>\n",
       "    .dataframe tbody tr th:only-of-type {\n",
       "        vertical-align: middle;\n",
       "    }\n",
       "\n",
       "    .dataframe tbody tr th {\n",
       "        vertical-align: top;\n",
       "    }\n",
       "\n",
       "    .dataframe thead th {\n",
       "        text-align: right;\n",
       "    }\n",
       "</style>\n",
       "<table border=\"1\" class=\"dataframe\">\n",
       "  <thead>\n",
       "    <tr style=\"text-align: right;\">\n",
       "      <th></th>\n",
       "      <th>species</th>\n",
       "      <th>island</th>\n",
       "      <th>bill_length_mm</th>\n",
       "      <th>bill_depth_mm</th>\n",
       "      <th>flipper_length_mm</th>\n",
       "      <th>body_mass_g</th>\n",
       "      <th>sex</th>\n",
       "    </tr>\n",
       "  </thead>\n",
       "  <tbody>\n",
       "    <tr>\n",
       "      <th>0</th>\n",
       "      <td>Adelie</td>\n",
       "      <td>Torgersen</td>\n",
       "      <td>39.1</td>\n",
       "      <td>18.7</td>\n",
       "      <td>181.0</td>\n",
       "      <td>3750.0</td>\n",
       "      <td>Male</td>\n",
       "    </tr>\n",
       "    <tr>\n",
       "      <th>1</th>\n",
       "      <td>Adelie</td>\n",
       "      <td>Torgersen</td>\n",
       "      <td>39.5</td>\n",
       "      <td>17.4</td>\n",
       "      <td>186.0</td>\n",
       "      <td>3800.0</td>\n",
       "      <td>Female</td>\n",
       "    </tr>\n",
       "    <tr>\n",
       "      <th>2</th>\n",
       "      <td>Adelie</td>\n",
       "      <td>Torgersen</td>\n",
       "      <td>40.3</td>\n",
       "      <td>18.0</td>\n",
       "      <td>195.0</td>\n",
       "      <td>3250.0</td>\n",
       "      <td>Female</td>\n",
       "    </tr>\n",
       "    <tr>\n",
       "      <th>3</th>\n",
       "      <td>Adelie</td>\n",
       "      <td>Torgersen</td>\n",
       "      <td>36.7</td>\n",
       "      <td>19.3</td>\n",
       "      <td>193.0</td>\n",
       "      <td>3450.0</td>\n",
       "      <td>Female</td>\n",
       "    </tr>\n",
       "    <tr>\n",
       "      <th>4</th>\n",
       "      <td>Adelie</td>\n",
       "      <td>Torgersen</td>\n",
       "      <td>39.3</td>\n",
       "      <td>20.6</td>\n",
       "      <td>190.0</td>\n",
       "      <td>3650.0</td>\n",
       "      <td>Male</td>\n",
       "    </tr>\n",
       "    <tr>\n",
       "      <th>5</th>\n",
       "      <td>Adelie</td>\n",
       "      <td>Torgersen</td>\n",
       "      <td>38.9</td>\n",
       "      <td>17.8</td>\n",
       "      <td>181.0</td>\n",
       "      <td>3625.0</td>\n",
       "      <td>Female</td>\n",
       "    </tr>\n",
       "    <tr>\n",
       "      <th>6</th>\n",
       "      <td>Adelie</td>\n",
       "      <td>Torgersen</td>\n",
       "      <td>39.2</td>\n",
       "      <td>19.6</td>\n",
       "      <td>195.0</td>\n",
       "      <td>4675.0</td>\n",
       "      <td>Male</td>\n",
       "    </tr>\n",
       "    <tr>\n",
       "      <th>7</th>\n",
       "      <td>Adelie</td>\n",
       "      <td>Torgersen</td>\n",
       "      <td>41.1</td>\n",
       "      <td>17.6</td>\n",
       "      <td>182.0</td>\n",
       "      <td>3200.0</td>\n",
       "      <td>Female</td>\n",
       "    </tr>\n",
       "    <tr>\n",
       "      <th>8</th>\n",
       "      <td>Adelie</td>\n",
       "      <td>Torgersen</td>\n",
       "      <td>38.6</td>\n",
       "      <td>21.2</td>\n",
       "      <td>191.0</td>\n",
       "      <td>3800.0</td>\n",
       "      <td>Male</td>\n",
       "    </tr>\n",
       "    <tr>\n",
       "      <th>9</th>\n",
       "      <td>Adelie</td>\n",
       "      <td>Torgersen</td>\n",
       "      <td>34.6</td>\n",
       "      <td>21.1</td>\n",
       "      <td>198.0</td>\n",
       "      <td>4400.0</td>\n",
       "      <td>Male</td>\n",
       "    </tr>\n",
       "    <tr>\n",
       "      <th>10</th>\n",
       "      <td>Adelie</td>\n",
       "      <td>Torgersen</td>\n",
       "      <td>36.6</td>\n",
       "      <td>17.8</td>\n",
       "      <td>185.0</td>\n",
       "      <td>3700.0</td>\n",
       "      <td>Female</td>\n",
       "    </tr>\n",
       "    <tr>\n",
       "      <th>11</th>\n",
       "      <td>Adelie</td>\n",
       "      <td>Torgersen</td>\n",
       "      <td>38.7</td>\n",
       "      <td>19.0</td>\n",
       "      <td>195.0</td>\n",
       "      <td>3450.0</td>\n",
       "      <td>Female</td>\n",
       "    </tr>\n",
       "    <tr>\n",
       "      <th>12</th>\n",
       "      <td>Adelie</td>\n",
       "      <td>Torgersen</td>\n",
       "      <td>42.5</td>\n",
       "      <td>20.7</td>\n",
       "      <td>197.0</td>\n",
       "      <td>4500.0</td>\n",
       "      <td>Male</td>\n",
       "    </tr>\n",
       "    <tr>\n",
       "      <th>13</th>\n",
       "      <td>Adelie</td>\n",
       "      <td>Torgersen</td>\n",
       "      <td>34.4</td>\n",
       "      <td>18.4</td>\n",
       "      <td>184.0</td>\n",
       "      <td>3325.0</td>\n",
       "      <td>Female</td>\n",
       "    </tr>\n",
       "    <tr>\n",
       "      <th>14</th>\n",
       "      <td>Adelie</td>\n",
       "      <td>Torgersen</td>\n",
       "      <td>46.0</td>\n",
       "      <td>21.5</td>\n",
       "      <td>194.0</td>\n",
       "      <td>4200.0</td>\n",
       "      <td>Male</td>\n",
       "    </tr>\n",
       "  </tbody>\n",
       "</table>\n",
       "</div>"
      ],
      "text/plain": [
       "   species     island  bill_length_mm  bill_depth_mm  flipper_length_mm   \n",
       "0   Adelie  Torgersen            39.1           18.7              181.0  \\\n",
       "1   Adelie  Torgersen            39.5           17.4              186.0   \n",
       "2   Adelie  Torgersen            40.3           18.0              195.0   \n",
       "3   Adelie  Torgersen            36.7           19.3              193.0   \n",
       "4   Adelie  Torgersen            39.3           20.6              190.0   \n",
       "5   Adelie  Torgersen            38.9           17.8              181.0   \n",
       "6   Adelie  Torgersen            39.2           19.6              195.0   \n",
       "7   Adelie  Torgersen            41.1           17.6              182.0   \n",
       "8   Adelie  Torgersen            38.6           21.2              191.0   \n",
       "9   Adelie  Torgersen            34.6           21.1              198.0   \n",
       "10  Adelie  Torgersen            36.6           17.8              185.0   \n",
       "11  Adelie  Torgersen            38.7           19.0              195.0   \n",
       "12  Adelie  Torgersen            42.5           20.7              197.0   \n",
       "13  Adelie  Torgersen            34.4           18.4              184.0   \n",
       "14  Adelie  Torgersen            46.0           21.5              194.0   \n",
       "\n",
       "    body_mass_g     sex  \n",
       "0        3750.0    Male  \n",
       "1        3800.0  Female  \n",
       "2        3250.0  Female  \n",
       "3        3450.0  Female  \n",
       "4        3650.0    Male  \n",
       "5        3625.0  Female  \n",
       "6        4675.0    Male  \n",
       "7        3200.0  Female  \n",
       "8        3800.0    Male  \n",
       "9        4400.0    Male  \n",
       "10       3700.0  Female  \n",
       "11       3450.0  Female  \n",
       "12       4500.0    Male  \n",
       "13       3325.0  Female  \n",
       "14       4200.0    Male  "
      ]
     },
     "execution_count": 4,
     "metadata": {},
     "output_type": "execute_result"
    }
   ],
   "source": [
    "penguins_final = penguins.dropna()\n",
    "penguins_final.reset_index(inplace=True, drop=True)\n",
    "\n",
    "penguins_final = penguins_final\n",
    "penguins_final"
   ]
  },
  {
   "cell_type": "markdown",
   "metadata": {
    "id": "Azxev-gxWiF8"
   },
   "source": [
    "You can review the documentation for [`dropna()`](https://pandas.pydata.org/docs/reference/api/pandas.DataFrame.dropna.html) and [`reset_index()`](https://pandas.pydata.org/docs/reference/api/pandas.DataFrame.reset_index.html). In short, the `dropna()` function by default removes any rows with any missing values in any of the columns. The `reset_index()` function resets the index values for the rows in the dataframe. Typically, you use `reset_index()` after you've finished manipulating the dataset. By setting `inplace=True`, you will not create a new DataFrame object. By setting `drop=True`, you will not insert a new index column into the DataFrame object."
   ]
  },
  {
   "cell_type": "markdown",
   "metadata": {
    "id": "RUoqqWeLiCYz"
   },
   "source": [
    "## Exploratory data analysis"
   ]
  },
  {
   "cell_type": "markdown",
   "metadata": {
    "id": "7ao1W-7EAg6C"
   },
   "source": [
    "Before you construct any model, it is important to get more familiar with your data. You can do so by performing exploratory data analysis or EDA. Please review previous program materials as needed if you would like to refamiliarize yourself with EDA concepts.\n",
    "\n",
    "Since this part of the course focuses on simple linear regression, you want to check for any linear relationships among variables in the dataframe. You can do this by creating scatterplots using any data visualization package, for example `matplotlib.plt`, `seaborn`, or `plotly`.\n",
    "\n",
    "To visualize more than one relationship at the same time, we use the `pairplot()` function from the `seaborn` package to create a scatterplot matrix."
   ]
  },
  {
   "cell_type": "code",
   "execution_count": 5,
   "metadata": {
    "colab": {
     "base_uri": "https://localhost:8080/",
     "height": 743
    },
    "executionInfo": {
     "elapsed": 13328,
     "status": "ok",
     "timestamp": 1649711510793,
     "user": {
      "displayName": "Juan Delgado",
      "userId": "16851183442870430714"
     },
     "user_tz": 420
    },
    "id": "foI3ZiAW7icf",
    "outputId": "c472ef5c-6ecc-4893-edc8-e2570f29201c"
   },
   "outputs": [
    {
     "data": {
      "text/plain": [
       "<seaborn.axisgrid.PairGrid at 0x7fc77b8daa70>"
      ]
     },
     "execution_count": 5,
     "metadata": {},
     "output_type": "execute_result"
    },
    {
     "data": {
      "image/png": "[encoded data removed]",
      "text/plain": [
       "<Figure size 1000x1000 with 20 Axes>"
      ]
     },
     "metadata": {},
     "output_type": "display_data"
    }
   ],
   "source": [
    "# Create pairwise scatterplots of data set\n",
    "sns.pairplot(penguins_final)"
   ]
  },
  {
   "cell_type": "markdown",
   "metadata": {
    "id": "F433rwq_YTki"
   },
   "source": [
    "From the scatterplot matrix, you can observe a few linear relationships:\n",
    "* bill length (mm) and flipper length (mm)\n",
    "* bill length (mm) and body mass (g)\n",
    "* flipper length (mm) and body mass (g)"
   ]
  },
  {
   "cell_type": "markdown",
   "metadata": {
    "id": "8c-FQN4ZA2Up"
   },
   "source": [
    "## Model construction\n",
    "\n"
   ]
  },
  {
   "cell_type": "markdown",
   "metadata": {
    "id": "tvsfr8JIA71Z"
   },
   "source": [
    "Based on the above scatterplots, you could probably run a simple linear regression on any of the three relationships identified. For this part of the course, you will focus on the relationship between bill length (mm) and body mass (g).\n",
    "\n",
    "To do this, you will first subset the variables of interest from the dataframe. You can do this by using double square brackets `[[]]`, and listing the names of the columns of interest."
   ]
  },
  {
   "cell_type": "code",
   "execution_count": 6,
   "metadata": {
    "id": "K0_BEWBMh4mf"
   },
   "outputs": [
    {
     "data": {
      "text/html": [
       "<div>\n",
       "<style scoped>\n",
       "    .dataframe tbody tr th:only-of-type {\n",
       "        vertical-align: middle;\n",
       "    }\n",
       "\n",
       "    .dataframe tbody tr th {\n",
       "        vertical-align: top;\n",
       "    }\n",
       "\n",
       "    .dataframe thead th {\n",
       "        text-align: right;\n",
       "    }\n",
       "</style>\n",
       "<table border=\"1\" class=\"dataframe\">\n",
       "  <thead>\n",
       "    <tr style=\"text-align: right;\">\n",
       "      <th></th>\n",
       "      <th>flipper_length_mm</th>\n",
       "      <th>body_mass_g</th>\n",
       "    </tr>\n",
       "  </thead>\n",
       "  <tbody>\n",
       "    <tr>\n",
       "      <th>0</th>\n",
       "      <td>181.0</td>\n",
       "      <td>3750.0</td>\n",
       "    </tr>\n",
       "    <tr>\n",
       "      <th>1</th>\n",
       "      <td>186.0</td>\n",
       "      <td>3800.0</td>\n",
       "    </tr>\n",
       "    <tr>\n",
       "      <th>2</th>\n",
       "      <td>195.0</td>\n",
       "      <td>3250.0</td>\n",
       "    </tr>\n",
       "    <tr>\n",
       "      <th>3</th>\n",
       "      <td>193.0</td>\n",
       "      <td>3450.0</td>\n",
       "    </tr>\n",
       "    <tr>\n",
       "      <th>4</th>\n",
       "      <td>190.0</td>\n",
       "      <td>3650.0</td>\n",
       "    </tr>\n",
       "    <tr>\n",
       "      <th>5</th>\n",
       "      <td>181.0</td>\n",
       "      <td>3625.0</td>\n",
       "    </tr>\n",
       "    <tr>\n",
       "      <th>6</th>\n",
       "      <td>195.0</td>\n",
       "      <td>4675.0</td>\n",
       "    </tr>\n",
       "    <tr>\n",
       "      <th>7</th>\n",
       "      <td>182.0</td>\n",
       "      <td>3200.0</td>\n",
       "    </tr>\n",
       "    <tr>\n",
       "      <th>8</th>\n",
       "      <td>191.0</td>\n",
       "      <td>3800.0</td>\n",
       "    </tr>\n",
       "    <tr>\n",
       "      <th>9</th>\n",
       "      <td>198.0</td>\n",
       "      <td>4400.0</td>\n",
       "    </tr>\n",
       "    <tr>\n",
       "      <th>10</th>\n",
       "      <td>185.0</td>\n",
       "      <td>3700.0</td>\n",
       "    </tr>\n",
       "    <tr>\n",
       "      <th>11</th>\n",
       "      <td>195.0</td>\n",
       "      <td>3450.0</td>\n",
       "    </tr>\n",
       "    <tr>\n",
       "      <th>12</th>\n",
       "      <td>197.0</td>\n",
       "      <td>4500.0</td>\n",
       "    </tr>\n",
       "    <tr>\n",
       "      <th>13</th>\n",
       "      <td>184.0</td>\n",
       "      <td>3325.0</td>\n",
       "    </tr>\n",
       "    <tr>\n",
       "      <th>14</th>\n",
       "      <td>194.0</td>\n",
       "      <td>4200.0</td>\n",
       "    </tr>\n",
       "  </tbody>\n",
       "</table>\n",
       "</div>"
      ],
      "text/plain": [
       "    flipper_length_mm  body_mass_g\n",
       "0               181.0       3750.0\n",
       "1               186.0       3800.0\n",
       "2               195.0       3250.0\n",
       "3               193.0       3450.0\n",
       "4               190.0       3650.0\n",
       "5               181.0       3625.0\n",
       "6               195.0       4675.0\n",
       "7               182.0       3200.0\n",
       "8               191.0       3800.0\n",
       "9               198.0       4400.0\n",
       "10              185.0       3700.0\n",
       "11              195.0       3450.0\n",
       "12              197.0       4500.0\n",
       "13              184.0       3325.0\n",
       "14              194.0       4200.0"
      ]
     },
     "execution_count": 6,
     "metadata": {},
     "output_type": "execute_result"
    }
   ],
   "source": [
    "# Subset Data\n",
    "ols_data = penguins_final[[\"flipper_length_mm\", \"body_mass_g\"]]\n",
    "ols_data"
   ]
  },
  {
   "cell_type": "markdown",
   "metadata": {
    "id": "YVBAOUFeYy2b"
   },
   "source": [
    "Next, you can construct the linear regression formula, and save it as a string. Remember that the y or dependent variable comes before the `~`, and the x or independent variables comes after the `~`.\n",
    "\n",
    "**Note:** The names of the x and y variables have to exactly match the column names in the dataframe."
   ]
  },
  {
   "cell_type": "code",
   "execution_count": 7,
   "metadata": {
    "id": "SJGZX_gCh8_I"
   },
   "outputs": [],
   "source": [
    "# Write out formula\n",
    "ols_formula = \"body_mass_g ~ flipper_length_mm\""
   ]
  },
  {
   "cell_type": "markdown",
   "metadata": {
    "id": "iiTvxM3fYyPz"
   },
   "source": [
    "Lastly, you can build the simple linear regression model in `statsmodels` using the `ols()` function. You can import the `ols()` function directly using the line of code below."
   ]
  },
  {
   "cell_type": "code",
   "execution_count": 8,
   "metadata": {
    "colab": {
     "base_uri": "https://localhost:8080/"
    },
    "executionInfo": {
     "elapsed": 265,
     "status": "ok",
     "timestamp": 1649711511055,
     "user": {
      "displayName": "Juan Delgado",
      "userId": "16851183442870430714"
     },
     "user_tz": 420
    },
    "id": "0F_QWy7EiK3x",
    "outputId": "44179fa0-3913-4530-b6a8-16d2cd1847a8"
   },
   "outputs": [],
   "source": [
    "# Import ols function\n",
    "from statsmodels.formula.api import ols"
   ]
  },
  {
   "cell_type": "markdown",
   "metadata": {
    "id": "lfcFA_JVZYME"
   },
   "source": [
    "Then, you can plug in the `ols_formula` and `ols_data` as arguments in the `ols()` function. After you save the results as a variable, you can call on the `fit()` function to actually fit the model to the data."
   ]
  },
  {
   "cell_type": "code",
   "execution_count": 9,
   "metadata": {
    "id": "uQkl0SjAiXAR"
   },
   "outputs": [],
   "source": [
    "# Build OLS, fit model to data\n",
    "OLS = ols(formula = ols_formula, data = ols_data)\n",
    "model = OLS.fit()"
   ]
  },
  {
   "cell_type": "markdown",
   "metadata": {
    "id": "zBcjgjYBZv1F"
   },
   "source": [
    "Lastly, you can call the `summary()` function on the `model` object to get the coefficients and more statistics about the model. The output from `model.summary()` can be used to evaluate the model and interpret the results. Later in this section, we will go over how to read the results of the model output."
   ]
  },
  {
   "cell_type": "code",
   "execution_count": 16,
   "metadata": {
    "colab": {
     "base_uri": "https://localhost:8080/",
     "height": 452
    },
    "executionInfo": {
     "elapsed": 8,
     "status": "ok",
     "timestamp": 1649711511055,
     "user": {
      "displayName": "Juan Delgado",
      "userId": "16851183442870430714"
     },
     "user_tz": 420
    },
    "id": "JfqBtfqBiqI8",
    "outputId": "d6b77bc2-b5a0-4545-f1b6-01ac1d351f7e"
   },
   "outputs": [
    {
     "name": "stderr",
     "output_type": "stream",
     "text": [
      "/home/hansel/.local/lib/python3.10/site-packages/scipy/stats/_stats_py.py:1736: UserWarning: kurtosistest only valid for n>=20 ... continuing anyway, n=15\n",
      "  warnings.warn(\"kurtosistest only valid for n>=20 ... continuing \"\n"
     ]
    },
    {
     "data": {
      "text/html": [
       "<table class=\"simpletable\">\n",
       "<caption>OLS Regression Results</caption>\n",
       "<tr>\n",
       "  <th>Dep. Variable:</th>       <td>body_mass_g</td>   <th>  R-squared:         </th> <td>   0.267</td>\n",
       "</tr>\n",
       "<tr>\n",
       "  <th>Model:</th>                   <td>OLS</td>       <th>  Adj. R-squared:    </th> <td>   0.211</td>\n",
       "</tr>\n",
       "<tr>\n",
       "  <th>Method:</th>             <td>Least Squares</td>  <th>  F-statistic:       </th> <td>   4.745</td>\n",
       "</tr>\n",
       "<tr>\n",
       "  <th>Date:</th>             <td>Mon, 24 Jul 2023</td> <th>  Prob (F-statistic):</th>  <td>0.0484</td> \n",
       "</tr>\n",
       "<tr>\n",
       "  <th>Time:</th>                 <td>13:56:43</td>     <th>  Log-Likelihood:    </th> <td> -110.42</td>\n",
       "</tr>\n",
       "<tr>\n",
       "  <th>No. Observations:</th>      <td>    15</td>      <th>  AIC:               </th> <td>   224.8</td>\n",
       "</tr>\n",
       "<tr>\n",
       "  <th>Df Residuals:</th>          <td>    13</td>      <th>  BIC:               </th> <td>   226.3</td>\n",
       "</tr>\n",
       "<tr>\n",
       "  <th>Df Model:</th>              <td>     1</td>      <th>                     </th>     <td> </td>   \n",
       "</tr>\n",
       "<tr>\n",
       "  <th>Covariance Type:</th>      <td>nonrobust</td>    <th>                     </th>     <td> </td>   \n",
       "</tr>\n",
       "</table>\n",
       "<table class=\"simpletable\">\n",
       "<tr>\n",
       "          <td></td>             <th>coef</th>     <th>std err</th>      <th>t</th>      <th>P>|t|</th>  <th>[0.025</th>    <th>0.975]</th>  \n",
       "</tr>\n",
       "<tr>\n",
       "  <th>Intercept</th>         <td>-3659.6146</td> <td> 3419.173</td> <td>   -1.070</td> <td> 0.304</td> <td> -1.1e+04</td> <td> 3727.059</td>\n",
       "</tr>\n",
       "<tr>\n",
       "  <th>flipper_length_mm</th> <td>   39.2235</td> <td>   18.006</td> <td>    2.178</td> <td> 0.048</td> <td>    0.324</td> <td>   78.123</td>\n",
       "</tr>\n",
       "</table>\n",
       "<table class=\"simpletable\">\n",
       "<tr>\n",
       "  <th>Omnibus:</th>       <td> 0.370</td> <th>  Durbin-Watson:     </th> <td>   2.086</td>\n",
       "</tr>\n",
       "<tr>\n",
       "  <th>Prob(Omnibus):</th> <td> 0.831</td> <th>  Jarque-Bera (JB):  </th> <td>   0.494</td>\n",
       "</tr>\n",
       "<tr>\n",
       "  <th>Skew:</th>          <td>-0.252</td> <th>  Prob(JB):          </th> <td>   0.781</td>\n",
       "</tr>\n",
       "<tr>\n",
       "  <th>Kurtosis:</th>      <td> 2.267</td> <th>  Cond. No.          </th> <td>6.15e+03</td>\n",
       "</tr>\n",
       "</table><br/><br/>Notes:<br/>[1] Standard Errors assume that the covariance matrix of the errors is correctly specified.<br/>[2] The condition number is large, 6.15e+03. This might indicate that there are<br/>strong multicollinearity or other numerical problems."
      ],
      "text/latex": [
       "\\begin{center}\n",
       "\\begin{tabular}{lclc}\n",
       "\\toprule\n",
       "\\textbf{Dep. Variable:}      &  body\\_mass\\_g   & \\textbf{  R-squared:         } &     0.267   \\\\\n",
       "\\textbf{Model:}              &       OLS        & \\textbf{  Adj. R-squared:    } &     0.211   \\\\\n",
       "\\textbf{Method:}             &  Least Squares   & \\textbf{  F-statistic:       } &     4.745   \\\\\n",
       "\\textbf{Date:}               & Mon, 24 Jul 2023 & \\textbf{  Prob (F-statistic):} &   0.0484    \\\\\n",
       "\\textbf{Time:}               &     13:56:43     & \\textbf{  Log-Likelihood:    } &   -110.42   \\\\\n",
       "\\textbf{No. Observations:}   &          15      & \\textbf{  AIC:               } &     224.8   \\\\\n",
       "\\textbf{Df Residuals:}       &          13      & \\textbf{  BIC:               } &     226.3   \\\\\n",
       "\\textbf{Df Model:}           &           1      & \\textbf{                     } &             \\\\\n",
       "\\textbf{Covariance Type:}    &    nonrobust     & \\textbf{                     } &             \\\\\n",
       "\\bottomrule\n",
       "\\end{tabular}\n",
       "\\begin{tabular}{lcccccc}\n",
       "                             & \\textbf{coef} & \\textbf{std err} & \\textbf{t} & \\textbf{P$> |$t$|$} & \\textbf{[0.025} & \\textbf{0.975]}  \\\\\n",
       "\\midrule\n",
       "\\textbf{Intercept}           &   -3659.6146  &     3419.173     &    -1.070  &         0.304        &     -1.1e+04    &     3727.059     \\\\\n",
       "\\textbf{flipper\\_length\\_mm} &      39.2235  &       18.006     &     2.178  &         0.048        &        0.324    &       78.123     \\\\\n",
       "\\bottomrule\n",
       "\\end{tabular}\n",
       "\\begin{tabular}{lclc}\n",
       "\\textbf{Omnibus:}       &  0.370 & \\textbf{  Durbin-Watson:     } &    2.086  \\\\\n",
       "\\textbf{Prob(Omnibus):} &  0.831 & \\textbf{  Jarque-Bera (JB):  } &    0.494  \\\\\n",
       "\\textbf{Skew:}          & -0.252 & \\textbf{  Prob(JB):          } &    0.781  \\\\\n",
       "\\textbf{Kurtosis:}      &  2.267 & \\textbf{  Cond. No.          } & 6.15e+03  \\\\\n",
       "\\bottomrule\n",
       "\\end{tabular}\n",
       "%\\caption{OLS Regression Results}\n",
       "\\end{center}\n",
       "\n",
       "Notes: \\newline\n",
       " [1] Standard Errors assume that the covariance matrix of the errors is correctly specified. \\newline\n",
       " [2] The condition number is large, 6.15e+03. This might indicate that there are \\newline\n",
       " strong multicollinearity or other numerical problems."
      ],
      "text/plain": [
       "<class 'statsmodels.iolib.summary.Summary'>\n",
       "\"\"\"\n",
       "                            OLS Regression Results                            \n",
       "==============================================================================\n",
       "Dep. Variable:            body_mass_g   R-squared:                       0.267\n",
       "Model:                            OLS   Adj. R-squared:                  0.211\n",
       "Method:                 Least Squares   F-statistic:                     4.745\n",
       "Date:                Mon, 24 Jul 2023   Prob (F-statistic):             0.0484\n",
       "Time:                        13:56:43   Log-Likelihood:                -110.42\n",
       "No. Observations:                  15   AIC:                             224.8\n",
       "Df Residuals:                      13   BIC:                             226.3\n",
       "Df Model:                           1                                         \n",
       "Covariance Type:            nonrobust                                         \n",
       "=====================================================================================\n",
       "                        coef    std err          t      P>|t|      [0.025      0.975]\n",
       "-------------------------------------------------------------------------------------\n",
       "Intercept         -3659.6146   3419.173     -1.070      0.304    -1.1e+04    3727.059\n",
       "flipper_length_mm    39.2235     18.006      2.178      0.048       0.324      78.123\n",
       "==============================================================================\n",
       "Omnibus:                        0.370   Durbin-Watson:                   2.086\n",
       "Prob(Omnibus):                  0.831   Jarque-Bera (JB):                0.494\n",
       "Skew:                          -0.252   Prob(JB):                        0.781\n",
       "Kurtosis:                       2.267   Cond. No.                     6.15e+03\n",
       "==============================================================================\n",
       "\n",
       "Notes:\n",
       "[1] Standard Errors assume that the covariance matrix of the errors is correctly specified.\n",
       "[2] The condition number is large, 6.15e+03. This might indicate that there are\n",
       "strong multicollinearity or other numerical problems.\n",
       "\"\"\""
      ]
     },
     "execution_count": 16,
     "metadata": {},
     "output_type": "execute_result"
    }
   ],
   "source": [
    "model.summary()"
   ]
  },
  {
   "cell_type": "markdown",
   "metadata": {
    "id": "1r9X8TL7CVjg"
   },
   "source": [
    "You can use the `regplot()` function from `seaborn` to visualize the regression line."
   ]
  },
  {
   "cell_type": "markdown",
   "metadata": {
    "colab": {
     "base_uri": "https://localhost:8080/",
     "height": 298
    },
    "executionInfo": {
     "elapsed": 975,
     "status": "ok",
     "timestamp": 1649711512025,
     "user": {
      "displayName": "Juan Delgado",
      "userId": "16851183442870430714"
     },
     "user_tz": 420
    },
    "id": "D1F8_dUfktyz",
    "outputId": "07e6d4fa-7faf-4fd8-bd4d-a2127ba4689c"
   },
   "source": [
    "### sns.regplot(x = \"flipper_length_mm\", y = \"body_mass_g\", data = ols_data)"
   ]
  },
  {
   "cell_type": "markdown",
   "metadata": {
    "id": "a4CmMTEzkIUF"
   },
   "source": [
    "## Finish checking model assumptions"
   ]
  },
  {
   "cell_type": "markdown",
   "metadata": {
    "id": "Mm8xLkYDBWfl"
   },
   "source": [
    "As you learned in previous videos, there are four main model assumptions for simple linear regression, in no particular order:\n",
    "1. Linearity\n",
    "2. Normality\n",
    "3. Independent observations\n",
    "4. Homoscedasticity\n",
    "\n",
    "You already checked the linearity assumption by creating the scatterplot matrix. The independent observations assumption is more about data collection. There is no reason to believe that one penguin's body mass or bill length would be related to any other penguin's anatomical measurements. So we can check off assumptions 1 and 3.\n",
    "\n",
    "The normality and homoscedasticity assumptions focus on the distribution of errors. Thus, you can only check these assumptions after you have constructed the model. To check these assumptions, you will check the residuals, as an approximation of the errors.\n",
    "\n",
    "To more easily check the model assumptions and create relevant visualizations, you can first subset the X variable by isolating just the `bill_length_mm` column. Additionally, you can save the predicted values from the model using the `model.predict(X)` function."
   ]
  },
  {
   "cell_type": "code",
   "execution_count": 11,
   "metadata": {
    "id": "3j3Uur4KkHkY"
   },
   "outputs": [
    {
     "data": {
      "text/plain": [
       "0    3439.833462\n",
       "1    3635.950813\n",
       "2    3988.962045\n",
       "3    3910.515105\n",
       "4    3792.844694\n",
       "dtype: float64"
      ]
     },
     "execution_count": 11,
     "metadata": {},
     "output_type": "execute_result"
    }
   ],
   "source": [
    "# Subset X variable\n",
    "X = ols_data[\"flipper_length_mm\"]\n",
    "\n",
    "# Get predictions from model\n",
    "fitted_values = model.predict(X.head())\n",
    "fitted_values"
   ]
  },
  {
   "cell_type": "markdown",
   "metadata": {
    "id": "2Gk0UASWamOA"
   },
   "source": [
    "Then, you can save the model residuals as a variable by using the `model.resid` attribute."
   ]
  },
  {
   "cell_type": "code",
   "execution_count": 12,
   "metadata": {
    "id": "9ki0zxwAitGs"
   },
   "outputs": [
    {
     "data": {
      "text/plain": [
       "0     310.166538\n",
       "1     164.049187\n",
       "2    -738.962045\n",
       "3    -460.515105\n",
       "4    -142.844694\n",
       "5     185.166538\n",
       "6     686.037955\n",
       "7    -279.056933\n",
       "8     -32.068164\n",
       "9     293.367545\n",
       "10    103.272657\n",
       "11   -538.962045\n",
       "12    432.591015\n",
       "13   -232.503873\n",
       "14    250.261425\n",
       "dtype: float64"
      ]
     },
     "execution_count": 12,
     "metadata": {},
     "output_type": "execute_result"
    }
   ],
   "source": [
    "# Calculate residuals\n",
    "residuals = model.resid\n",
    "residuals"
   ]
  },
  {
   "cell_type": "markdown",
   "metadata": {
    "id": "hGiL1WH7Cjuy"
   },
   "source": [
    "### Check the normality assumption"
   ]
  },
  {
   "cell_type": "markdown",
   "metadata": {
    "id": "yyNjpzceCtCV"
   },
   "source": [
    "To check the normality assumption, you can create a histogram of the residuals using the `histplot()` function from the `seaborn` package.\n",
    "\n",
    "From the below histogram, you may notice that the residuals are almost normally distributed. In this case, it is likely close enough that the assumption is met."
   ]
  },
  {
   "cell_type": "code",
   "execution_count": 13,
   "metadata": {
    "colab": {
     "base_uri": "https://localhost:8080/",
     "height": 295
    },
    "executionInfo": {
     "elapsed": 183,
     "status": "ok",
     "timestamp": 1649711512672,
     "user": {
      "displayName": "Juan Delgado",
      "userId": "16851183442870430714"
     },
     "user_tz": 420
    },
    "id": "CRzmMINllAqK",
    "outputId": "46c71028-1289-4843-ad84-6f6f9c1f3a8f"
   },
   "outputs": [
    {
     "data": {
      "image/png": "[encoded data removed]",
      "text/plain": [
       "<Figure size 640x480 with 1 Axes>"
      ]
     },
     "metadata": {},
     "output_type": "display_data"
    }
   ],
   "source": [
    "import matplotlib.pyplot as plt\n",
    "fig = sns.histplot(residuals)\n",
    "fig.set_xlabel(\"Residual Value\")\n",
    "fig.set_title(\"Histogram of Residuals\")\n",
    "plt.show()"
   ]
  },
  {
   "cell_type": "markdown",
   "metadata": {
    "id": "K5nYucYRDEEA"
   },
   "source": [
    "Another way to check the normality function is to create a quantile-quantile or Q-Q plot. Recall that if the residuals are normally distributed, you would expect a straight diagonal line going from the bottom left to the upper right of the Q-Q plot. You can create a Q-Q plot by using the `qqplot` function from the `statsmodels.api` package.\n",
    "\n",
    "The Q-Q plot shows a similar pattern to the histogram, where the residuals are mostly normally distributed, except at the ends of the distribution."
   ]
  },
  {
   "cell_type": "code",
   "execution_count": 14,
   "metadata": {
    "colab": {
     "base_uri": "https://localhost:8080/",
     "height": 279
    },
    "executionInfo": {
     "elapsed": 597,
     "status": "ok",
     "timestamp": 1649711513266,
     "user": {
      "displayName": "Juan Delgado",
      "userId": "16851183442870430714"
     },
     "user_tz": 420
    },
    "id": "J5zryNn3lFDu",
    "outputId": "ffec7f94-b7ab-45d1-cd39-b12a02cd62a2"
   },
   "outputs": [
    {
     "data": {
      "image/png": "[encoded data removed]",
      "text/plain": [
       "<Figure size 640x480 with 1 Axes>"
      ]
     },
     "metadata": {},
     "output_type": "display_data"
    }
   ],
   "source": [
    "import matplotlib.pyplot as plt\n",
    "import statsmodels.api as sm\n",
    "fig = sm.qqplot(model.resid, line = 's')\n",
    "plt.show()"
   ]
  },
  {
   "cell_type": "markdown",
   "metadata": {
    "id": "R0ox_k5RCl5S"
   },
   "source": [
    "### Check the homoscedasticity assumption"
   ]
  },
  {
   "cell_type": "markdown",
   "metadata": {
    "id": "1ueYUfVPDik8"
   },
   "source": [
    "Lastly, we have to check the homoscedasticity assumption. To check the homoscedasticity assumption, you can create a scatterplot of the fitted values and residuals. If the plot resembles a random cloud (i.e., the residuals are scattered randomly), then the assumption is likely met.\n",
    "\n",
    "You can create one scatterplot by using the `scatterplot()` function from the `seaborn` package. The first argument is the variable that goes on the x-axis. The second argument is the variable that goes on the y-axis."
   ]
  },
  {
   "cell_type": "code",
   "execution_count": 15,
   "metadata": {
    "colab": {
     "base_uri": "https://localhost:8080/",
     "height": 334
    },
    "executionInfo": {
     "elapsed": 470,
     "status": "ok",
     "timestamp": 1649711512492,
     "user": {
      "displayName": "Juan Delgado",
      "userId": "16851183442870430714"
     },
     "user_tz": 420
    },
    "id": "3aMZCXt8k9eD",
    "outputId": "0907089e-5b5e-4d47-9a00-30ebdbe6830e"
   },
   "outputs": [
    {
     "data": {
      "image/png": "[encoded data removed]",
      "text/plain": [
       "<Figure size 640x480 with 1 Axes>"
      ]
     },
     "metadata": {},
     "output_type": "display_data"
    }
   ],
   "source": [
    "# Import matplotlib\n",
    "import matplotlib.pyplot as plt\n",
    "fig = sns.scatterplot(x=fitted_values, y=residuals)\n",
    "\n",
    "# Add reference line at residuals = 0\n",
    "fig.axhline(0)\n",
    "\n",
    "# Set x-axis and y-axis labels\n",
    "fig.set_xlabel(\"Fitted Values\")\n",
    "fig.set_ylabel(\"Residuals\")\n",
    "\n",
    "# Show the plot\n",
    "plt.show()"
   ]
  },
  {
   "cell_type": "markdown",
   "metadata": {
    "id": "IWA87XmjBCRe"
   },
   "source": [
    "**Congratulations!** You've completed this lab. However, you may not notice a green check mark next to this item on Coursera's platform. Please continue your progress regardless of the check mark. Just click on the \"save\" icon at the top of this notebook to ensure your work has been logged.\n",
    "\n",
    "You now understand how to build a simple linear regression model with Python. Going forward, you can start using simple linear regression models with your own datasets."
   ]
  }
 ],
 "metadata": {
  "colab": {
   "collapsed_sections": [],
   "provenance": [
    {
     "file_id": "1EmlUP46pvzbuejWG3SsrMCx0I2rrosO8",
     "timestamp": 1663105562036
    },
    {
     "file_id": "1_XeKmiOwQqrOoD_UEg-8jU3A0Bzidar5",
     "timestamp": 1659371764313
    }
   ]
  },
  "kernelspec": {
   "display_name": "Python 3 (ipykernel)",
   "language": "python",
   "name": "python3"
  },
  "language_info": {
   "codemirror_mode": {
    "name": "ipython",
    "version": 3
   },
   "file_extension": ".py",
   "mimetype": "text/x-python",
   "name": "python",
   "nbconvert_exporter": "python",
   "pygments_lexer": "ipython3",
   "version": "3.10.12"
  }
 },
 "nbformat": 4,
 "nbformat_minor": 4
}

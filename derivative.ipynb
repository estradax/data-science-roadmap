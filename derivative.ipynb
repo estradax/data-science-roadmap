{
 "cells": [
  {
   "cell_type": "code",
   "execution_count": 17,
   "id": "bf79f6ec-6a36-4c1d-b2d5-5eb00c7ca558",
   "metadata": {},
   "outputs": [
    {
     "data": {
      "text/plain": [
       "array([0.5, 0.5, 0.5])"
      ]
     },
     "execution_count": 17,
     "metadata": {},
     "output_type": "execute_result"
    }
   ],
   "source": [
    "import numpy as np\n",
    "from findiff import FinDiff\n",
    "\n",
    "x = np.array([1, 2, 3], dtype=float)\n",
    "\n",
    "dx = 2\n",
    "\n",
    "f = x\n",
    "\n",
    "d_dx = FinDiff(0, dx)\n",
    "\n",
    "df_dx = d_dx(f)\n",
    "\n",
    "df_dx"
   ]
  }
 ],
 "metadata": {
  "kernelspec": {
   "display_name": "Python 3 (ipykernel)",
   "language": "python",
   "name": "python3"
  },
  "language_info": {
   "codemirror_mode": {
    "name": "ipython",
    "version": 3
   },
   "file_extension": ".py",
   "mimetype": "text/x-python",
   "name": "python",
   "nbconvert_exporter": "python",
   "pygments_lexer": "ipython3",
   "version": "3.10.12"
  }
 },
 "nbformat": 4,
 "nbformat_minor": 5
}

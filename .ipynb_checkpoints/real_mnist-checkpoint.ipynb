{
 "cells": [
  {
   "cell_type": "code",
   "execution_count": 161,
   "id": "8c15f12d-2279-4381-9fd7-873d7f35e8bd",
   "metadata": {},
   "outputs": [],
   "source": [
    "import matplotlib.pyplot as plt\n",
    "\n",
    "import torch\n",
    "import torch.nn as nn\n",
    "import torch.optim as optim\n",
    "from torchvision import datasets, transforms\n",
    "from torch.utils.data import DataLoader\n",
    "\n",
    "mnist_transform = transforms.ToTensor()\n",
    "\n",
    "train_dataset = datasets.MNIST('data/', download=True, transform=mnist_transform)\n",
    "test_dataset = datasets.MNIST('test/', train=False, download=True, transform=mnist_transform)\n",
    "\n",
    "train_loader = DataLoader(train_dataset, batch_size=32)\n",
    "test_loader = DataLoader(test_dataset, batch_size=100)"
   ]
  },
  {
   "cell_type": "code",
   "execution_count": 162,
   "id": "c18bd93f-2340-4dfb-bbff-a181e1f2f172",
   "metadata": {},
   "outputs": [],
   "source": [
    "X_train, y_train = next(iter(train_loader))\n",
    "X_test, y_test = next(iter(test_loader))"
   ]
  },
  {
   "cell_type": "code",
   "execution_count": 290,
   "id": "a0e901e0-2c50-409a-8dab-e999cd0c79bc",
   "metadata": {},
   "outputs": [],
   "source": [
    "# flatten model\n",
    "torch.manual_seed(1)\n",
    "\n",
    "model = nn.Sequential(\n",
    "    nn.Conv2d(1, 10, 5),\n",
    "    nn.Dropout(0.5),\n",
    "    nn.Flatten(),\n",
    "    nn.Linear(24*24*10, 10)\n",
    ")\n",
    "\n",
    "criterion = nn.CrossEntropyLoss()\n",
    "optimizer = optim.SGD(model.parameters(), lr=0.1, weight_decay=0.001)"
   ]
  },
  {
   "cell_type": "code",
   "execution_count": 28,
   "id": "62f8c141-80b8-4227-a5a0-22f527a4a16f",
   "metadata": {},
   "outputs": [
    {
     "data": {
      "text/plain": [
       "torch.Size([32])"
      ]
     },
     "execution_count": 28,
     "metadata": {},
     "output_type": "execute_result"
    }
   ],
   "source": [
    "y_train.size()"
   ]
  },
  {
   "cell_type": "code",
   "execution_count": 288,
   "id": "c545191a-4556-4fa9-94c0-2c60777f3577",
   "metadata": {},
   "outputs": [
    {
     "name": "stdout",
     "output_type": "stream",
     "text": [
      "0.09774314612150192\n"
     ]
    }
   ],
   "source": [
    "model.train()\n",
    "\n",
    "for _ in range(1):\n",
    "    for X, y in iter(train_loader):\n",
    "        optimizer.zero_grad()\n",
    "\n",
    "        logits = model(X)\n",
    "        loss = criterion(logits, y)\n",
    "\n",
    "        loss.backward()\n",
    "        optimizer.step()\n",
    "\n",
    "print(loss.item())"
   ]
  },
  {
   "cell_type": "code",
   "execution_count": 289,
   "id": "bd7d6193-5772-4eba-88bb-d26da38e7f31",
   "metadata": {},
   "outputs": [
    {
     "name": "stdout",
     "output_type": "stream",
     "text": [
      "0.20402276515960693\n"
     ]
    }
   ],
   "source": [
    "model.eval()\n",
    "\n",
    "test_logits = model(X_test)\n",
    "test_loss = criterion(test_logits, y_test)\n",
    "\n",
    "print(test_loss.item())"
   ]
  },
  {
   "cell_type": "code",
   "execution_count": 25,
   "id": "4f3d4d3a-e5e6-47a2-bab0-dc509ef95af5",
   "metadata": {},
   "outputs": [
    {
     "data": {
      "text/plain": [
       "torch.Size([32, 10])"
      ]
     },
     "execution_count": 25,
     "metadata": {},
     "output_type": "execute_result"
    }
   ],
   "source": [
    "model(X_train).size()"
   ]
  },
  {
   "cell_type": "code",
   "execution_count": 208,
   "id": "da062e59-aa91-40fb-b58d-99ac66cf8554",
   "metadata": {},
   "outputs": [
    {
     "data": {
      "text/plain": [
       "57870"
      ]
     },
     "execution_count": 208,
     "metadata": {},
     "output_type": "execute_result"
    }
   ],
   "source": [
    "total_params = sum(\n",
    "\tparam.numel() for param in model.parameters()\n",
    ")\n",
    "\n",
    "total_params"
   ]
  },
  {
   "cell_type": "code",
   "execution_count": 205,
   "id": "9c9d1170-45b9-44a6-bc05-36a2bcd27b87",
   "metadata": {},
   "outputs": [
    {
     "name": "stdout",
     "output_type": "stream",
     "text": [
      "torch.Size([32, 5760])\n",
      "torch.Size([32, 10, 24, 24])\n"
     ]
    }
   ],
   "source": [
    "c = nn.Conv2d(1, 10, 5)\n",
    "xx = nn.Flatten()\n",
    "\n",
    "print(xx(c(X_train)).size())\n",
    "print(c(X_train).size())"
   ]
  },
  {
   "cell_type": "code",
   "execution_count": 254,
   "id": "16b423d7-cfea-4bac-8630-6b4d80f1e652",
   "metadata": {},
   "outputs": [
    {
     "data": {
      "text/plain": [
       "torch.Size([32, 1, 28, 28])"
      ]
     },
     "execution_count": 254,
     "metadata": {},
     "output_type": "execute_result"
    }
   ],
   "source": [
    "xxx = nn.BatchNorm2d(1)\n",
    "xxx(X_train).size()"
   ]
  }
 ],
 "metadata": {
  "kernelspec": {
   "display_name": "Python 3 (ipykernel)",
   "language": "python",
   "name": "python3"
  },
  "language_info": {
   "codemirror_mode": {
    "name": "ipython",
    "version": 3
   },
   "file_extension": ".py",
   "mimetype": "text/x-python",
   "name": "python",
   "nbconvert_exporter": "python",
   "pygments_lexer": "ipython3",
   "version": "3.10.12"
  }
 },
 "nbformat": 4,
 "nbformat_minor": 5
}

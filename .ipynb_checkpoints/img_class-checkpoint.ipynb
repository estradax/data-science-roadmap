{
 "cells": [
  {
   "cell_type": "code",
   "execution_count": 124,
   "id": "4faef931-f822-4ee8-b671-6e44e44ada84",
   "metadata": {},
   "outputs": [],
   "source": [
    "import numpy as np \n",
    "\n",
    "import torch\n",
    "import torch.nn as nn\n",
    "from torchvision.io import read_image\n",
    "\n",
    "img = read_image('xo/o.png')"
   ]
  },
  {
   "cell_type": "code",
   "execution_count": 167,
   "id": "f12ebf2e-bdbe-47d1-bc85-093e31f1208b",
   "metadata": {},
   "outputs": [
    {
     "data": {
      "text/plain": [
       "tensor([[0.8422],\n",
       "        [1.0000],\n",
       "        [0.9989],\n",
       "        [1.0000]], grad_fn=<SigmoidBackward0>)"
      ]
     },
     "execution_count": 167,
     "metadata": {},
     "output_type": "execute_result"
    }
   ],
   "source": [
    "torch.manual_seed(1)\n",
    "\n",
    "seq = nn.Sequential(\n",
    "    nn.Conv2d(4, 4, 2),\n",
    "    nn.ReLU(),\n",
    "    nn.MaxPool2d(2, 2),\n",
    "    nn.Flatten(),\n",
    "    nn.Linear(4, 16),\n",
    "    nn.ReLU(),\n",
    "    nn.Linear(16, 1),\n",
    "    nn.Sigmoid()\n",
    ")\n",
    "seq(img.float())"
   ]
  },
  {
   "cell_type": "code",
   "execution_count": null,
   "id": "0c2a0a41-65a2-46bd-bc8c-2eb02ac01449",
   "metadata": {},
   "outputs": [],
   "source": [
    "torch.manual_seed(1)"
   ]
  }
 ],
 "metadata": {
  "kernelspec": {
   "display_name": "Python 3 (ipykernel)",
   "language": "python",
   "name": "python3"
  },
  "language_info": {
   "codemirror_mode": {
    "name": "ipython",
    "version": 3
   },
   "file_extension": ".py",
   "mimetype": "text/x-python",
   "name": "python",
   "nbconvert_exporter": "python",
   "pygments_lexer": "ipython3",
   "version": "3.10.12"
  }
 },
 "nbformat": 4,
 "nbformat_minor": 5
}

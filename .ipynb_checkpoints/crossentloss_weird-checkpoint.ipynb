{
 "cells": [
  {
   "cell_type": "code",
   "execution_count": 1,
   "id": "f9fa7384-279b-4611-9eee-e22ffff5c79a",
   "metadata": {},
   "outputs": [],
   "source": [
    "import torch\n",
    "import pandas as pd\n",
    "import seaborn as sns\n",
    "import matplotlib.pyplot as plt\n",
    "\n",
    "from torch import nn, optim\n",
    "from torch.nn import functional as F\n",
    "from torch.utils.data import Dataset\n",
    "from sklearn.feature_extraction.text import CountVectorizer\n",
    "from sklearn.model_selection import train_test_split\n",
    "\n",
    "species_vectorizer = CountVectorizer()\n",
    "\n",
    "df = sns.load_dataset('penguins')\n",
    "df = df.dropna()\n",
    "\n",
    "species = df['species'].replace(['Adelie', 'Chinstrap', 'Gentoo'], [0, 1, 2]).to_numpy()\n",
    "\n",
    "X = df[['bill_length_mm', 'bill_depth_mm', 'flipper_length_mm', 'body_mass_g']].to_numpy()\n",
    "X = torch.tensor(X).float()\n",
    "y = torch.tensor(species)\n",
    "\n",
    "X_train, X_test, y_train, y_test = train_test_split(X, y, random_state=1)"
   ]
  },
  {
   "cell_type": "code",
   "execution_count": 2,
   "id": "93c2190d-fd35-451a-8a5a-ee9dbe4a1340",
   "metadata": {},
   "outputs": [],
   "source": [
    "X_train = X_train[:10]\n",
    "y_train = y_train[:10]\n",
    "X_test = X_test[:5]\n",
    "y_test = y_test[:5]"
   ]
  },
  {
   "cell_type": "code",
   "execution_count": 12,
   "id": "bca66a11-20fd-494c-94f6-a5a61dcca306",
   "metadata": {},
   "outputs": [],
   "source": [
    "torch.manual_seed(1)\n",
    "\n",
    "class BirdNet(nn.Module):\n",
    "    def __init__(self, in_features, out_features):\n",
    "        super().__init__()\n",
    "        \n",
    "        hidden = 64\n",
    "        \n",
    "        self.seq = nn.Sequential(\n",
    "            nn.Linear(in_features, hidden),\n",
    "            nn.ReLU(),\n",
    "            nn.Linear(hidden, out_features)\n",
    "        )\n",
    "        \n",
    "    def forward(self, x):\n",
    "        x = F.normalize(x)\n",
    "        return self.seq(x)\n",
    "    \n",
    "model = BirdNet(4, 3)\n",
    "criterion = nn.CrossEntropyLoss()\n",
    "optimizer = optim.SGD(model.parameters(), lr=1e-2)\n",
    "total_loss = []"
   ]
  },
  {
   "cell_type": "code",
   "execution_count": 9,
   "id": "8e0d9ba7-50d0-4c4a-bfdd-3fcf33cc3541",
   "metadata": {},
   "outputs": [
    {
     "data": {
      "text/plain": [
       "[<matplotlib.lines.Line2D at 0x7fa7c2a74d60>]"
      ]
     },
     "execution_count": 9,
     "metadata": {},
     "output_type": "execute_result"
    },
    {
     "data": {
      "image/png": "[encoded data removed]",
      "text/plain": [
       "<Figure size 640x480 with 1 Axes>"
      ]
     },
     "metadata": {},
     "output_type": "display_data"
    }
   ],
   "source": [
    "model.train()\n",
    "\n",
    "for epoch in range(1000):\n",
    "    optimizer.zero_grad()\n",
    "    \n",
    "    preds = model(X_train)\n",
    "    loss = criterion(preds, y_train)\n",
    "    \n",
    "    loss.backward()\n",
    "    optimizer.step()\n",
    "    \n",
    "    total_loss.append(loss.item())\n",
    "    \n",
    "plt.plot(total_loss)"
   ]
  },
  {
   "cell_type": "code",
   "execution_count": 5,
   "id": "7dd6356e-d67b-430f-a674-72fff3492abc",
   "metadata": {},
   "outputs": [
    {
     "data": {
      "text/plain": [
       "131"
      ]
     },
     "execution_count": 5,
     "metadata": {},
     "output_type": "execute_result"
    }
   ],
   "source": [
    "sum(p.numel() for p in model.parameters())"
   ]
  },
  {
   "cell_type": "code",
   "execution_count": 10,
   "id": "d8dacda1-9641-43cd-a9bf-e2f0484b62ea",
   "metadata": {},
   "outputs": [
    {
     "data": {
      "text/plain": [
       "(tensor(0.4000), tensor(0.4000))"
      ]
     },
     "execution_count": 10,
     "metadata": {},
     "output_type": "execute_result"
    }
   ],
   "source": [
    "model.eval()\n",
    "\n",
    "with torch.no_grad():\n",
    "    preds_test = model(X_test)\n",
    "    preds_train = model(X_train)\n",
    "    \n",
    "test_acc = torch.sum(torch.argmax(preds_test, dim=1) == y_test) / len(y_test)\n",
    "train_acc = torch.sum(torch.argmax(preds_train, dim=1) == y_train) / len(y_train)\n",
    "\n",
    "test_acc, train_acc"
   ]
  },
  {
   "cell_type": "code",
   "execution_count": 11,
   "id": "7a0d3dcc-01bb-47d6-af8d-93a993dbb09c",
   "metadata": {},
   "outputs": [
    {
     "data": {
      "text/plain": [
       "tensor([[-0.0259, -0.0254,  0.2611],\n",
       "        [-0.0254, -0.0263,  0.2622],\n",
       "        [-0.0254, -0.0261,  0.2612],\n",
       "        [-0.0255, -0.0260,  0.2618],\n",
       "        [-0.0247, -0.0272,  0.2615],\n",
       "        [-0.0253, -0.0262,  0.2613],\n",
       "        [-0.0263, -0.0245,  0.2606],\n",
       "        [-0.0254, -0.0265,  0.2625],\n",
       "        [-0.0266, -0.0240,  0.2604],\n",
       "        [-0.0258, -0.0255,  0.2609]])"
      ]
     },
     "execution_count": 11,
     "metadata": {},
     "output_type": "execute_result"
    }
   ],
   "source": [
    "preds_train"
   ]
  }
 ],
 "metadata": {
  "kernelspec": {
   "display_name": "Python 3 (ipykernel)",
   "language": "python",
   "name": "python3"
  },
  "language_info": {
   "codemirror_mode": {
    "name": "ipython",
    "version": 3
   },
   "file_extension": ".py",
   "mimetype": "text/x-python",
   "name": "python",
   "nbconvert_exporter": "python",
   "pygments_lexer": "ipython3",
   "version": "3.10.12"
  }
 },
 "nbformat": 4,
 "nbformat_minor": 5
}
